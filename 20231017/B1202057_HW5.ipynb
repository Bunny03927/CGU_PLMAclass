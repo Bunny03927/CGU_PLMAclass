{
  "nbformat": 4,
  "nbformat_minor": 0,
  "metadata": {
    "colab": {
      "provenance": []
    },
    "kernelspec": {
      "name": "python3",
      "display_name": "Python 3"
    },
    "language_info": {
      "name": "python"
    }
  },
  "cells": [
    {
      "cell_type": "code",
      "source": [
        "for i in range(1,18,2):\n",
        "  a='*'*i\n",
        "  print(f'{a:^19s}')\n",
        "for i in range(10,15):\n",
        "  b='*'*3\n",
        "  print(f'{b:^19s}')"
      ],
      "metadata": {
        "colab": {
          "base_uri": "https://localhost:8080/"
        },
        "id": "U8MOw1nwP3vq",
        "outputId": "75553ffe-e54d-43d0-8f27-fa75cf079f84"
      },
      "execution_count": null,
      "outputs": [
        {
          "output_type": "stream",
          "name": "stdout",
          "text": [
            "         *         \n",
            "        ***        \n",
            "       *****       \n",
            "      *******      \n",
            "     *********     \n",
            "    ***********    \n",
            "   *************   \n",
            "  ***************  \n",
            " ***************** \n",
            "        ***        \n",
            "        ***        \n",
            "        ***        \n",
            "        ***        \n",
            "        ***        \n"
          ]
        }
      ]
    },
    {
      "cell_type": "code",
      "source": [
        "import random\n",
        "x=random.sample(range(1,10),4)\n",
        "print('答案:',x)\n",
        "\n",
        "A=0\n",
        "B=0\n",
        "rounds=0\n",
        "\n",
        "while A!=4:\n",
        "  A=0\n",
        "  B=0\n",
        "  rounds+=1\n",
        "  y=input('請輸入四個數字(不會重複):')\n",
        "\n",
        "  while len(y)>4:\n",
        "    y=input('輸入過多數字，請輸入四個數字(不重複):')\n",
        "\n",
        "  for i in range(0,4):\n",
        "      if int(y[i])==x[i]:\n",
        "       A+=1\n",
        "      elif int(y[i]) in x:\n",
        "       B+=1\n",
        "  print(y,':',A,'A',B,'B')\n",
        "\n",
        "print(f'答對了!總共猜了{rounds}次')"
      ],
      "metadata": {
        "colab": {
          "base_uri": "https://localhost:8080/"
        },
        "id": "Jq009Eo9GKmd",
        "outputId": "4edfe04f-7587-4815-ecb9-9f40814edc91"
      },
      "execution_count": null,
      "outputs": [
        {
          "output_type": "stream",
          "name": "stdout",
          "text": [
            "答案: [7, 2, 5, 6]\n",
            "請輸入四個數字(不會重複):12345\n",
            "輸入過多數字，請輸入四個數字(不重複):1234\n",
            "1234 : 1 A 0 B\n",
            "請輸入四個數字(不會重複):5678\n",
            "5678 : 0 A 3 B\n",
            "請輸入四個數字(不會重複):7654\n",
            "7654 : 2 A 1 B\n",
            "請輸入四個數字(不會重複):7652\n",
            "7652 : 2 A 2 B\n",
            "請輸入四個數字(不會重複):7251\n",
            "7251 : 3 A 0 B\n",
            "請輸入四個數字(不會重複):7256\n",
            "7256 : 4 A 0 B\n",
            "答對了!總共猜了6次\n"
          ]
        }
      ]
    }
  ]
}