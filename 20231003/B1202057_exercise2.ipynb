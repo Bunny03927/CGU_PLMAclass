{
  "nbformat": 4,
  "nbformat_minor": 0,
  "metadata": {
    "colab": {
      "provenance": []
    },
    "kernelspec": {
      "name": "python3",
      "display_name": "Python 3"
    },
    "language_info": {
      "name": "python"
    }
  },
  "cells": [
    {
      "cell_type": "code",
      "execution_count": 18,
      "metadata": {
        "colab": {
          "base_uri": "https://localhost:8080/"
        },
        "id": "wzlf74v3cvJz",
        "outputId": "2b0b2592-a84c-4162-f0a6-9759cef4179f"
      },
      "outputs": [
        {
          "output_type": "stream",
          "name": "stdout",
          "text": [
            "A\n",
            "['K', 'H', 'U']\n"
          ]
        }
      ],
      "source": [
        "#1\n",
        "a='C,B,A'\n",
        "b=['F','G','H']\n",
        "a.split(',')\n",
        "c=a.split(',')+b\n",
        "c[0]='K'\n",
        "d=c.pop(2)\n",
        "print(d)\n",
        "del c[1:4]\n",
        "c.append('U')\n",
        "print(c)"
      ]
    },
    {
      "cell_type": "code",
      "source": [
        "#2\n",
        "height=float(input('輸入身高:'))\n",
        "weight=float(input('輸入體重:'))\n",
        "height=height/100\n",
        "BMI=weight/height/height\n",
        "print('BMI:',int(BMI))\n",
        "if BMI<18.5:\n",
        "  print('體位:過輕')\n",
        "elif BMI<24 and BMI>=18.5:\n",
        "  print('體位:適中')\n",
        "elif BMI<27 and BMI>=24:\n",
        "  print('體位:過重')\n",
        "else:\n",
        "  print('體位:肥胖')"
      ],
      "metadata": {
        "colab": {
          "base_uri": "https://localhost:8080/"
        },
        "id": "wfTirPuIj8l8",
        "outputId": "5b625448-c24a-4b55-b50f-cca7912be33c"
      },
      "execution_count": null,
      "outputs": [
        {
          "output_type": "stream",
          "name": "stdout",
          "text": [
            "輸入身高:150\n",
            "輸入體重:55\n",
            "BMI: 24\n",
            "體位:過重\n"
          ]
        }
      ]
    }
  ]
}