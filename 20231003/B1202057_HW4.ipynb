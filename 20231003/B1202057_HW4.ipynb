{
  "nbformat": 4,
  "nbformat_minor": 0,
  "metadata": {
    "colab": {
      "provenance": []
    },
    "kernelspec": {
      "name": "python3",
      "display_name": "Python 3"
    },
    "language_info": {
      "name": "python"
    }
  },
  "cells": [
    {
      "cell_type": "code",
      "source": [
        "#1\n",
        "a=input('請輸入成績')\n",
        "b=a.split(' ')\n",
        "c=[int(i)for i in b]\n",
        "c.remove(min(c))\n",
        "c.remove(max(c))\n",
        "d=sum(c)\n",
        "print(d/3)"
      ],
      "metadata": {
        "colab": {
          "base_uri": "https://localhost:8080/"
        },
        "id": "USF-5zTHcV8D",
        "outputId": "f10718d8-7523-4bb4-d800-358e2541a58a"
      },
      "execution_count": null,
      "outputs": [
        {
          "output_type": "stream",
          "name": "stdout",
          "text": [
            "請輸入成績100 95 90 84 85\n",
            "90.0\n"
          ]
        }
      ]
    },
    {
      "cell_type": "code",
      "execution_count": 1,
      "metadata": {
        "colab": {
          "base_uri": "https://localhost:8080/"
        },
        "id": "J6vEh-E7G8vv",
        "outputId": "e7ad27c2-28fc-45dc-9b8e-6c69284e6fe0"
      },
      "outputs": [
        {
          "output_type": "stream",
          "name": "stdout",
          "text": [
            "請輸入第一個數字5\n",
            "請輸入第二個數字6\n",
            "請輸入運算符號(+,-,*,/)*\n",
            "30\n"
          ]
        }
      ],
      "source": [
        "#2\n",
        "a=int(input('請輸入第一個數字'))\n",
        "b=int(input('請輸入第二個數字'))\n",
        "c=input('請輸入運算符號(+,-,*,/)')\n",
        "\n",
        "if c=='+':\n",
        "  print(a+b)\n",
        "elif c=='-':\n",
        "  print(a-b)\n",
        "elif c=='*':\n",
        "  print(a*b)\n",
        "elif c=='/':\n",
        "  print(a/b)\n",
        "else:\n",
        "  print('錯誤，請輸入指定符號')"
      ]
    },
    {
      "cell_type": "code",
      "source": [
        "#3\n",
        "a=int(input('請輸入年份'))\n",
        "\n",
        "if a<=1582:\n",
        "  if a%4==0:\n",
        "    print('閏年')\n",
        "  else:\n",
        "    print('平年')\n",
        "else:\n",
        "  if a%4==0:\n",
        "    if a%100==0:\n",
        "      if a%400==0:\n",
        "        print('閏年')\n",
        "      else:\n",
        "        print('平年')\n",
        "    else:\n",
        "      print('閏年')\n",
        "  else:\n",
        "    print('平年')"
      ],
      "metadata": {
        "colab": {
          "base_uri": "https://localhost:8080/"
        },
        "id": "J8sbLm7kHPvi",
        "outputId": "80d2bcd0-09db-4750-8e33-926c868bf680"
      },
      "execution_count": null,
      "outputs": [
        {
          "output_type": "stream",
          "name": "stdout",
          "text": [
            "請輸入年份2500\n",
            "平年\n"
          ]
        }
      ]
    }
  ]
}