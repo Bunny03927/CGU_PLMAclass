{
  "nbformat": 4,
  "nbformat_minor": 0,
  "metadata": {
    "colab": {
      "provenance": []
    },
    "kernelspec": {
      "name": "python3",
      "display_name": "Python 3"
    },
    "language_info": {
      "name": "python"
    }
  },
  "cells": [
    {
      "cell_type": "code",
      "execution_count": 41,
      "metadata": {
        "colab": {
          "base_uri": "https://localhost:8080/"
        },
        "id": "vbd1CtQIb8rn",
        "outputId": "e058eb95-dd4c-4c22-a40e-8677cfc1549c"
      },
      "outputs": [
        {
          "output_type": "stream",
          "name": "stdout",
          "text": [
            "聖誕樹層數:15\n",
            "          *\n",
            "         ***\n",
            "        *****\n",
            "       *******\n",
            "      *********\n",
            "     ***********\n",
            "    *************\n",
            "   ***************\n",
            "  *****************\n",
            " *******************\n",
            "         ***\n",
            "         ***\n",
            "         ***\n",
            "         ***\n",
            "         ***\n"
          ]
        }
      ],
      "source": [
        "def xmastree(h,s=1):\n",
        "\n",
        "  for i in range(h-5):\n",
        "   print(' '*(h-5-i)+('*'*s))\n",
        "   s+=2\n",
        "  for j in range(1,6):\n",
        "   print((' '*(h-5-1)+'*'*3))\n",
        "\n",
        "c=input('聖誕樹層數:')\n",
        "xmastree(int(c))"
      ]
    },
    {
      "cell_type": "code",
      "source": [
        "def bmicalculation(height,weight):\n",
        " bmi=weight/(height/100)/(height/100)\n",
        " if bmi<18.5:\n",
        "  return bmi,'體位:過輕'\n",
        " elif bmi<24 and bmi>=18.5:\n",
        "  return bmi,'體位:適中'\n",
        " elif bmi<27 and bmi>=24:\n",
        "  return bmi,'體位:過重'\n",
        " else:\n",
        "  return bmi,'體位:肥胖'\n",
        "\n",
        "try:\n",
        "  h=float(input('身高(公分):'))\n",
        "  w=float(input('體重(公斤):'))\n",
        "  result1,result2=bmicalculation(h,w)\n",
        "  print('BMI:',result1)\n",
        "  print(result2)\n",
        "\n",
        "except:\n",
        "  print('輸入內容錯誤')\n"
      ],
      "metadata": {
        "id": "_N5t71N2MKpC",
        "colab": {
          "base_uri": "https://localhost:8080/"
        },
        "outputId": "42168243-4e46-44af-ead9-c4b0a97b8056"
      },
      "execution_count": 45,
      "outputs": [
        {
          "output_type": "stream",
          "name": "stdout",
          "text": [
            "身高(公分):150\n",
            "體重(公斤):44\n",
            "BMI: 19.555555555555554\n",
            "體位:適中\n"
          ]
        }
      ]
    }
  ]
}