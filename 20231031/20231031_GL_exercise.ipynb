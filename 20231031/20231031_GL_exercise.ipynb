{
  "nbformat": 4,
  "nbformat_minor": 0,
  "metadata": {
    "colab": {
      "provenance": []
    },
    "kernelspec": {
      "name": "python3",
      "display_name": "Python 3"
    },
    "language_info": {
      "name": "python"
    }
  },
  "cells": [
    {
      "cell_type": "code",
      "source": [
        "a=int(input('請輸入一個數字:'))\n",
        "b=int(a**0.5)\n",
        "index=0\n",
        "if a<2:\n",
        "  print('錯誤')\n",
        "  index=1\n",
        "while index==0:\n",
        "  c=0\n",
        "  for i in range(2,b+1):\n",
        "    if a%i==0:\n",
        "      c=c+1\n",
        "      break\n",
        "    else:\n",
        "      continue\n",
        "  if c==0:\n",
        "    print(a)\n",
        "    break\n",
        "  else:\n",
        "    a=a-1\n"
      ],
      "metadata": {
        "colab": {
          "base_uri": "https://localhost:8080/"
        },
        "id": "hIx6o6gNnFUG",
        "outputId": "b1627b63-5b4e-4946-b4ac-93e1c4ef8aad"
      },
      "execution_count": 22,
      "outputs": [
        {
          "output_type": "stream",
          "name": "stdout",
          "text": [
            "請輸入一個數字:80\n",
            "79\n"
          ]
        }
      ]
    },
    {
      "cell_type": "code",
      "source": [
        "a=list(map(int,input('請輸入一列數字並用逗號隔開每個數字:').split(',')))\n",
        "b=len(a)\n",
        "g=[]\n",
        "for i in range(0,b):\n",
        "  c=0\n",
        "  for j in range(0,b):\n",
        "    if a[i]>a[j]:\n",
        "      c=c+1\n",
        "    else:\n",
        "      continue\n",
        "  g.append(c)\n",
        "print(g)"
      ],
      "metadata": {
        "colab": {
          "base_uri": "https://localhost:8080/"
        },
        "id": "K6589JmWnFql",
        "outputId": "595fda18-9238-4438-80c2-b7c31e912d9a"
      },
      "execution_count": 12,
      "outputs": [
        {
          "output_type": "stream",
          "name": "stdout",
          "text": [
            "請輸入一列數字並用逗號隔開每個數字:5,6,8,4,2,3\n",
            "[3, 4, 5, 2, 0, 1]\n"
          ]
        }
      ]
    },
    {
      "cell_type": "code",
      "execution_count": 13,
      "metadata": {
        "id": "J_cAwILOf9VY",
        "colab": {
          "base_uri": "https://localhost:8080/"
        },
        "outputId": "390e7e22-e00e-4850-fc1b-9de6f74e9132"
      },
      "outputs": [
        {
          "output_type": "stream",
          "name": "stdout",
          "text": [
            "請輸入一個由0和1組成的字串:00100101\n",
            "[14, 11, 8, 7, 6, 5, 6, 7]\n"
          ]
        }
      ],
      "source": [
        "a=str(input('請輸入一個由0和1組成的字串:'))\n",
        "b=len(a)\n",
        "c=[]\n",
        "d=[]\n",
        "for i in range(0,b):\n",
        "  if a[i]=='1':\n",
        "    c.append(i)\n",
        "  else:\n",
        "    continue\n",
        "for i in range(0,b):\n",
        "  e=0\n",
        "  for j in c:\n",
        "    e=e+abs(i-j)\n",
        "  d.append(e)\n",
        "print(d)\n"
      ]
    }
  ]
}